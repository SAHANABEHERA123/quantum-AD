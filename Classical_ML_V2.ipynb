{
 "cells": [
  {
   "cell_type": "code",
   "execution_count": 1,
   "id": "6c086b96",
   "metadata": {},
   "outputs": [],
   "source": [
    "# Vikram & Sahana\n",
    "# Dec 30 2021 - Jan 9 2022\n",
    "# Classical Machine Learning Model V2\n",
    "# Detecting Severity of Alzheimer's with brain scans more accurately"
   ]
  },
  {
   "cell_type": "code",
   "execution_count": 2,
   "id": "434bfd09",
   "metadata": {},
   "outputs": [
    {
     "name": "stdout",
     "output_type": "stream",
     "text": [
      "WARNING:tensorflow:From /Library/Frameworks/Python.framework/Versions/3.9/lib/python3.9/site-packages/tensorflow/python/compat/v2_compat.py:111: disable_resource_variables (from tensorflow.python.ops.variable_scope) is deprecated and will be removed in a future version.\n",
      "Instructions for updating:\n",
      "non-resource variables are not supported in the long term\n"
     ]
    }
   ],
   "source": [
    "from tqdm import tqdm\n",
    "import os\n",
    "import cv2\n",
    "import numpy as np\n",
    "from random import shuffle\n",
    "import matplotlib.pyplot as plt\n",
    "import tflearn\n",
    "import nibabel as nib\n",
    "from tflearn.layers.conv import conv_2d, max_pool_2d\n",
    "from tflearn.layers.core import input_data, dropout, fully_connected\n",
    "from tflearn.layers.estimator import regression\n",
    "from tflearn.data_utils import to_categorical, image_preloader\n",
    "from tflearn.metrics import Accuracy\n",
    "import numpy as np\n",
    "import pandas as pd\n",
    "import skimage, os\n",
    "from skimage.morphology import ball, disk, dilation, binary_erosion, remove_small_objects, erosion, closing, reconstruction, binary_closing\n",
    "from skimage.measure import label,regionprops, perimeter\n",
    "from skimage.morphology import binary_dilation, binary_opening\n",
    "from skimage.filters import roberts, sobel\n",
    "from skimage import measure, feature\n",
    "from skimage.segmentation import clear_border\n",
    "from skimage import data\n",
    "from scipy import ndimage as ndi\n",
    "import matplotlib.pyplot as plt\n",
    "from mpl_toolkits.mplot3d.art3d import Poly3DCollection\n",
    "import scipy.misc\n",
    "import numpy as np\n",
    "from glob import glob\n",
    "from skimage.io import imread\n",
    "import tensorflow as tf\n",
    "from sklearn.preprocessing import LabelBinarizer\n",
    "from sklearn.preprocessing import MinMaxScaler\n",
    "from time import time\n",
    "from sklearn.model_selection import train_test_split\n",
    "from tensorflow.keras.layers import Dense\n",
    "from tensorflow.keras.models import Model\n",
    "from tensorflow.keras.optimizers import Adam\n",
    "from tensorflow.keras.layers import concatenate\n",
    "import numpy as np\n",
    "import argparse\n",
    "import locale\n",
    "import os\n",
    "from tensorflow.keras.models import Sequential\n",
    "from tensorflow.keras.layers import BatchNormalization\n",
    "from tensorflow.keras.layers import Conv2D\n",
    "from tensorflow.keras.layers import MaxPooling2D\n",
    "from tensorflow.keras.layers import Activation\n",
    "from tensorflow.keras.layers import Dropout\n",
    "from tensorflow.keras.layers import Dense\n",
    "from tensorflow.keras.layers import Flatten\n",
    "from tensorflow.keras.layers import Input\n",
    "from tensorflow.keras.models import Model"
   ]
  },
  {
   "cell_type": "code",
   "execution_count": 17,
   "id": "78dc1788",
   "metadata": {},
   "outputs": [],
   "source": [
    "def process_images():\n",
    "    print(\"Processing Images...\")\n",
    "    df = pd.read_csv(CSV_DIR) # reads in csv file\n",
    "    df[\"Downloaded\"] = \"\" # creates new Downloaded column\n",
    "    \n",
    "    \n",
    "    for index, row in df.iterrows(): # goes through every row\n",
    "        \n",
    "        # CONNECTING EACH IMAGE TO ROW IN THE \n",
    "        id = row['Image ID']\n",
    "        for i in range(len(images_set)): # checks through all the images\n",
    "            if \"I%s\" % id in image_info[i][0]:\n",
    "                # if the image id is in the file name of the image being checked\n",
    "                df.at[index,'Downloaded'] = i # store the index\n",
    "                image_info[i][1] = True\n",
    "        \n",
    "        # CHANGING RESEARCH GROUP TO A NUMBER\n",
    "        if (row['Research Group'] == \"AD\"): df.at[index,'Research Group'] = 1\n",
    "        elif (row['Research Group'] == \"CN\"): df.at[index,'Research Group'] = 0\n",
    "        else: \n",
    "            df.at[index,'Research Group'] = 2\n",
    "            \n",
    "        # CHANGING ANY COL,ROW WHERE IT SAYS NAN\n",
    "        for col in df:\n",
    "            if index > 0 and pd.isnull(row[col]):\n",
    "                if row[\"Subject ID\"] == df.at[index-1,\"Subject ID\"]:\n",
    "                    df.at[index, col] = df.at[index-1,col]\n",
    "        \n",
    "        for colandval in INCLUDE_ROWS:\n",
    "            coltoremove = colandval[0]\n",
    "            valtoremove = colandval[1]\n",
    "#             print(coltoremove in list(df))\n",
    "#             print(df[coltoremove].str.contains(valtoremove))\n",
    "#             if (coltoremove in list(df)): df = df.loc[df[coltoremove].str.contains(valtoremove)]\n",
    "#             else: df = df.loc[df[\"Downloaded\"] != \"Boogie Woogie\"]\n",
    "            if (df.shape[0] == 0):\n",
    "                print(\"Specifying %s down to %s doesn't work... Make sure you downloaded / are checking the right thing\"\n",
    "                     % (coltoremove, valtoremove))\n",
    "                raise NameError(\"Dat Don't Exist Tho\")\n",
    "        \n",
    "    df.replace([np.inf, -np.inf], np.nan, inplace=True)   \n",
    "    df.dropna(inplace=True) \n",
    "    \n",
    "    \n",
    "    df2 = df.loc[df['Downloaded'] != \"\"]\n",
    "    df3 = df2.loc[df2['Research Group'] <= 1]\n",
    "    print(\"Processed!\")\n",
    "    return df3\n",
    "\n",
    "def process_lattributes(df, dat):\n",
    "    print(\"Processing Scan Attributes...\")\n",
    "    cs = MinMaxScaler()\n",
    "    continuous = cs.fit_transform(dat[INCLUDE_DATA_NUMBERS])\n",
    "    categoricals = []\n",
    "    for i in INCLUDE_DATA_CATEGORIES:\n",
    "        zipBinarizer = LabelBinarizer().fit(df[i])\n",
    "        categorical = zipBinarizer.transform(dat[i])\n",
    "        categoricals.append(categorical)\n",
    "    \n",
    "    x = np.hstack([continuous, *categoricals])\n",
    "    print(\"Processed!\")\n",
    "    return x\n",
    "\n",
    "def get_data():\n",
    "    print(\"Getting Image Data...\")\n",
    "    path = IMAGE_DIR\n",
    "    images = []\n",
    "    image_info = []\n",
    "    for fol1 in tqdm(os.listdir(path), disable=True):\n",
    "        if fol1 == \".DS_Store\": continue\n",
    "        path1 = os.path.join(path, fol1)\n",
    "        for fol2 in tqdm(os.listdir(path1), disable=True):\n",
    "            if fol2 == \".DS_Store\": continue\n",
    "            path2 = os.path.join(path1, fol2)\n",
    "            for fol3 in tqdm(os.listdir(path2), disable=True):\n",
    "                if fol3 == \".DS_Store\": continue\n",
    "                path3 = os.path.join(path2, fol3)\n",
    "                for fol4 in tqdm(os.listdir(path3), disable=True):\n",
    "                    if fol4 == \".DS_Store\": continue\n",
    "                    path4 = os.path.join(path3, fol4)\n",
    "                    # After going through all of the subfolders, we can finally see the image\n",
    "                    for img in tqdm(os.listdir(path4), disable=True):\n",
    "                        if img == \".DS_Store\": continue\n",
    "                        # print(img)\n",
    "                        try:\n",
    "                            path5 = os.path.join(path4, img)\n",
    "                            image_data = nib.load(path5).get_fdata() # get the numbers of the 3D image\n",
    "                            image_data = np.rot90(image_data) # make it axial\n",
    "                            our_slice = image_data[image_data.shape[0]//2] # get the very middle slice\n",
    "                            # print(type(our_slice))\n",
    "                            # print(img)\n",
    "                            our_slice_reshaped = scale_array(our_slice, IMG_SHAPE)\n",
    "                            images.append(our_slice_reshaped) # add it to the list\n",
    "                            image_info.append([img, False])\n",
    "                        except:\n",
    "                            pass\n",
    "    print(\"Got!\")\n",
    "    return images, image_info\n",
    "\n",
    "def scale_array(x, new_size):\n",
    "    new_size = (new_size[0]/x.shape[0],new_size[1]/x.shape[1], 1)\n",
    "    y = scipy.ndimage.zoom(x, new_size)\n",
    "    return y"
   ]
  },
  {
   "cell_type": "code",
   "execution_count": 4,
   "id": "d46423fa",
   "metadata": {},
   "outputs": [],
   "source": [
    "def create_mlp(dim, regress=False):\n",
    "    print(\"Creating MLP Classifier for attributes...\")\n",
    "    # define our MLP network\n",
    "    model = Sequential()\n",
    "    model.add(Dense(8, input_dim=dim, activation=\"relu\"))\n",
    "    model.add(Dense(4, activation=\"relu\"))\n",
    "    # check to see if the regression node should be added\n",
    "    if regress:\n",
    "        model.add(Dense(1, activation=\"linear\"))\n",
    "    # return our model\n",
    "    print(\"Created!\")\n",
    "    return model\n",
    "\n",
    "def create_cnn(width, height, depth, filters=(16, 32, 64), regress=False):\n",
    "    print(\"Creating CNN for images...\")\n",
    "    # initialize the input shape and channel dimension, assuming\n",
    "    # TensorFlow/channels-last ordering\n",
    "    inputShape = (height, width, depth)\n",
    "    chanDim = -1\n",
    "    # define the model input\n",
    "    inputs = Input(shape=inputShape)\n",
    "    # loop over the number of filters\n",
    "    for (i, f) in enumerate(filters):\n",
    "        # if this is the first CONV layer then set the input\n",
    "        # appropriately\n",
    "        if i == 0:\n",
    "            x = inputs\n",
    "        # CONV => RELU => BN => POOL\n",
    "        x = Conv2D(f, (3, 3), padding=\"same\")(x)\n",
    "        x = Activation(\"relu\")(x)\n",
    "        x = BatchNormalization(axis=chanDim)(x)\n",
    "        x = MaxPooling2D(pool_size=(2, 2))(x)\n",
    "    # flatten the volume, then FC => RELU => BN => DROPOUT\n",
    "    x = Flatten()(x)\n",
    "    x = Dense(16)(x)\n",
    "    x = Activation(\"relu\")(x)\n",
    "    x = BatchNormalization(axis=chanDim)(x)\n",
    "    x = Dropout(0.5)(x)\n",
    "    # apply another FC layer, this one to match the number of nodes\n",
    "    # coming out of the MLP\n",
    "    x = Dense(4)(x)\n",
    "    x = Activation(\"relu\")(x)\n",
    "    # check to see if the regression node should be added\n",
    "    if regress:\n",
    "        x = Dense(1, activation=\"linear\")(x)\n",
    "    # construct the CNN\n",
    "    model = Model(inputs, x)\n",
    "    # return the CNN\n",
    "    print(\"Created!\")\n",
    "    return model"
   ]
  },
  {
   "cell_type": "code",
   "execution_count": 5,
   "id": "164f2d9a",
   "metadata": {},
   "outputs": [],
   "source": [
    "def score(model,verbose=False):\n",
    "    score = 0\n",
    "    start = int(round(time()*1000))\n",
    "    pred = model.predict([testNumX, testImagesX])\n",
    "    end = int(round(time()*1000))\n",
    "    for i in range(len(pred)):\n",
    "        prediction = np.where(pred[i] == np.amax(pred[i]))[0][0]\n",
    "        real = np.where(testY[i] == 1)[0][0]\n",
    "        # print(pred[i], testY[i])\n",
    "        if verbose: print(\"Predicted Class vs. Actual Class: %s %s\" % (prediction, real))\n",
    "        if (prediction == real):\n",
    "            score+=1\n",
    "        else: \n",
    "            if verbose: print(\"   Incorrect!\")\n",
    "    return score / len(pred), end-start"
   ]
  },
  {
   "cell_type": "code",
   "execution_count": 9,
   "id": "4305ad52",
   "metadata": {},
   "outputs": [
    {
     "name": "stdout",
     "output_type": "stream",
     "text": [
      "/Users/sidharthanantha/Documents/SciFair 2022/ADNI/002_S_6030/Axial_T2_STAR/2017-06-15_13_30_22.0/S573170/ADNI_002_S_6030_MR_Axial_T2_STAR__br_raw_20170616113815278_41_S573170_I861966.nii\n"
     ]
    },
    {
     "name": "stderr",
     "output_type": "stream",
     "text": [
      "/var/folders/f3/048ydxg12gv9kdbdkq4drhkc0000gn/T/ipykernel_1859/3364032366.py:32: DeprecationWarning: get_data() is deprecated in favor of get_fdata(), which has a more predictable return type. To obtain get_data() behavior going forward, use numpy.asanyarray(img.dataobj).\n",
      "\n",
      "* deprecated from version: 3.0\n",
      "* Will raise <class 'nibabel.deprecator.ExpiredDeprecationError'> as of version: 5.0\n",
      "  image_data = nib.load(image).get_data()\n"
     ]
    },
    {
     "data": {
      "image/png": "[encoded data removed]",
      "text/plain": [
       "<Figure size 432x288 with 1 Axes>"
      ]
     },
     "metadata": {
      "needs_background": "light"
     },
     "output_type": "display_data"
    }
   ],
   "source": [
    "# OPTIONAL\n",
    "\n",
    "def view_image():\n",
    "    import numpy as np # linear algebra\n",
    "    import pandas as pd # data processing, CSV file I/O (e.g. pd.read_csv)\n",
    "    import skimage, os\n",
    "    from skimage.morphology import ball, disk, dilation, binary_erosion, remove_small_objects, erosion, closing, reconstruction, binary_closing\n",
    "    from skimage.measure import label,regionprops, perimeter\n",
    "    from skimage.morphology import binary_dilation, binary_opening\n",
    "    from skimage.filters import roberts, sobel\n",
    "    from skimage import measure, feature\n",
    "    from skimage.segmentation import clear_border\n",
    "    from skimage import data\n",
    "    from scipy import ndimage as ndi\n",
    "    import matplotlib.pyplot as plt\n",
    "    from mpl_toolkits.mplot3d.art3d import Poly3DCollection\n",
    "    import scipy.misc\n",
    "    import numpy as np\n",
    "    from glob import glob\n",
    "    from skimage.io import imread\n",
    "    BASE_IMG_PATH = \"/Users/sidharthanantha/Documents/SciFair 2022/ADNI/002_S_6030/Axial_T2_STAR/2017-06-15_13_30_22.0/S573170/ADNI_002_S_6030_MR_Axial_T2_STAR__br_raw_20170616113815278_41_S573170_I861966.nii\"\n",
    "\n",
    "    image = glob(os.path.join(BASE_IMG_PATH, '*'))\n",
    "    image = glob(BASE_IMG_PATH)[0]\n",
    "    print(image)\n",
    "    %matplotlib inline\n",
    "    try:\n",
    "        import nibabel as nib\n",
    "    except:\n",
    "        raise ImportError('bip bop')\n",
    "\n",
    "    image_data = nib.load(image).get_data()\n",
    "    image_data = np.rot90(image_data)\n",
    "    # image_data = np.reshape(image_data, (44, 256, 256, 1))\n",
    "    # image_data = np.rot90(image_data) # make it axial\n",
    "    # print(image_data.shape)\n",
    "    le_img = image_data[image_data.shape[0]//2]\n",
    "    plt.imshow(le_img)\n",
    "    # print(le_img[len(le_img)//2])\n",
    "    # print(le_img.shape)\n",
    "    le_img = scale_array(le_img, (75,75))\n",
    "    plt.imshow(le_img)\n",
    "    # print(image_data[2])\n",
    "    # It's a little smushed but that's ok\n",
    "view_image()"
   ]
  },
  {
   "cell_type": "code",
   "execution_count": 19,
   "id": "ffd3c38a",
   "metadata": {},
   "outputs": [],
   "source": [
    "IMAGE_DIR = \"/Users/sidharthanantha/Documents/SciFair 2022/Alzheimers_Dataset_V3\"\n",
    "CSV_DIR = \"/Users/sidharthanantha/Documents/SciFair 2022/classical_v2_attr_data.csv\"\n",
    "IMG_SHAPE = (70, 70)\n",
    "LR = 1e-3\n",
    "MODEL_NAME = \"classifying_alzheimers_v2.model\"\n",
    "Y_ATTR = \"Research Group\"\n",
    "INCLUDE_DATA_NUMBERS = ['Weight','APOE A1','APOE A2','Age','MMSE Total Score','GDSCALE Total Score','Global CDR','FAQ Total Score','NPI-Q Total Score']\n",
    "INCLUDE_DATA_CATEGORIES = ['Sex', 'Description','Type','Imaging Protocol','Structure']\n",
    "INCLUDE_ROWS = [\n",
    "#     ['Imaging Protocol', \"Acquisition Type=3D\"],\n",
    "    ['Imaging Protocol', 'Weighting=T2']\n",
    "]\n",
    "NUM_CLASSES = 2\n",
    "EPOCHS = 200"
   ]
  },
  {
   "cell_type": "code",
   "execution_count": 20,
   "id": "6c4a8b9e",
   "metadata": {},
   "outputs": [
    {
     "name": "stdout",
     "output_type": "stream",
     "text": [
      "Getting Image Data...\n",
      "Got!\n",
      "There are 11854 images\n"
     ]
    }
   ],
   "source": [
    "images_set, image_info = get_data()\n",
    "print(\"There are %s images\" % len(images_set))"
   ]
  },
  {
   "cell_type": "code",
   "execution_count": 21,
   "id": "2bfaafdb",
   "metadata": {},
   "outputs": [
    {
     "name": "stdout",
     "output_type": "stream",
     "text": [
      "Processing Images...\n",
      "Processed!\n",
      "DF's Shape: (2323, 22)\n"
     ]
    }
   ],
   "source": [
    "df = process_images()\n",
    "print(\"DF's Shape: %s\" % str(df.shape))\n",
    "# df"
   ]
  },
  {
   "cell_type": "code",
   "execution_count": 26,
   "id": "f6efb433",
   "metadata": {},
   "outputs": [
    {
     "data": {
      "text/plain": [
       "'Slice Thickness=3.0;Matrix Z=52.0;Acquisition Type=2D;Manufacturer=GE MEDICAL SYSTEMS;Mfg Model=SIGNA EXCITE;Field Strength=1.5;Weighting=T2'"
      ]
     },
     "execution_count": 26,
     "metadata": {},
     "output_type": "execute_result"
    }
   ],
   "source": [
    "df.at[7, \"Imaging Protocol\"]"
   ]
  },
  {
   "cell_type": "code",
   "execution_count": 22,
   "id": "d7069c65",
   "metadata": {},
   "outputs": [
    {
     "name": "stdout",
     "output_type": "stream",
     "text": [
      "Shape of the Image array: (2323, 70, 70, 1)\n"
     ]
    }
   ],
   "source": [
    "images = []\n",
    "\n",
    "for index in list(df[\"Downloaded\"]):\n",
    "    images.append(images_set[index])\n",
    "images = np.array(images)\n",
    "print(\"Shape of the Image array: %s\" % str(np.shape(images)))"
   ]
  },
  {
   "cell_type": "code",
   "execution_count": 10,
   "id": "1a66ec98",
   "metadata": {},
   "outputs": [
    {
     "name": "stdout",
     "output_type": "stream",
     "text": [
      "Processing Scan Attributes...\n",
      "Processed!\n",
      "Processing Scan Attributes...\n",
      "Processed!\n"
     ]
    }
   ],
   "source": [
    "split = train_test_split(df, images, test_size=0.25, random_state=42)\n",
    "(trainAttrX, testAttrX, trainImagesX, testImagesX) = split\n",
    "\n",
    "trainY = to_categorical(np.array(trainAttrX[Y_ATTR]))\n",
    "testY = to_categorical(np.array(testAttrX[Y_ATTR]))\n",
    "trainAttrX\n",
    "\n",
    "trainNumX = process_lattributes(df, trainAttrX)\n",
    "testNumX = process_lattributes(df, testAttrX)"
   ]
  },
  {
   "cell_type": "code",
   "execution_count": 11,
   "id": "f2427d01",
   "metadata": {},
   "outputs": [
    {
     "name": "stdout",
     "output_type": "stream",
     "text": [
      "Creating MLP Classifier for attributes...\n",
      "Created!\n",
      "Creating CNN for images...\n",
      "WARNING:tensorflow:From /Library/Frameworks/Python.framework/Versions/3.9/lib/python3.9/site-packages/keras/layers/normalization/batch_normalization.py:532: _colocate_with (from tensorflow.python.framework.ops) is deprecated and will be removed in a future version.\n",
      "Instructions for updating:\n",
      "Colocations handled automatically by placer.\n",
      "Created!\n"
     ]
    }
   ],
   "source": [
    "mlp = create_mlp(trainNumX.shape[1], regress=False)\n",
    "cnn = create_cnn(*np.shape(images[0]), regress=False)\n",
    "\n",
    "combinedInput = concatenate([mlp.output, cnn.output])\n",
    "\n",
    "x = Dense(4, activation=\"relu\")(combinedInput)\n",
    "x = Dense(NUM_CLASSES, activation=\"softmax\")(x)\n",
    "model = Model(inputs=[mlp.input, cnn.input], outputs=x)\n",
    "opt = Adam(learning_rate=1e-3, decay=1e-3 / 200)\n",
    "model.compile(loss=\"categorical_crossentropy\", optimizer=opt)"
   ]
  },
  {
   "cell_type": "code",
   "execution_count": 12,
   "id": "5ca6da64",
   "metadata": {},
   "outputs": [
    {
     "name": "stdout",
     "output_type": "stream",
     "text": [
      "Fitting...\n"
     ]
    },
    {
     "name": "stderr",
     "output_type": "stream",
     "text": [
      "2022-01-23 13:49:58.925738: I tensorflow/core/platform/cpu_feature_guard.cc:151] This TensorFlow binary is optimized with oneAPI Deep Neural Network Library (oneDNN) to use the following CPU instructions in performance-critical operations:  AVX2 FMA\n",
      "To enable them in other operations, rebuild TensorFlow with the appropriate compiler flags.\n",
      "/Library/Frameworks/Python.framework/Versions/3.9/lib/python3.9/site-packages/keras/engine/training_v1.py:2057: UserWarning: `Model.state_updates` will be removed in a future version. This property should not be used in TensorFlow 2.0, as `updates` are applied automatically.\n",
      "  updates = self.state_updates\n"
     ]
    },
    {
     "name": "stdout",
     "output_type": "stream",
     "text": [
      "Fitted!\n"
     ]
    }
   ],
   "source": [
    "print(\"Fitting...\")\n",
    "start = int(round(time()*1000))\n",
    "model.fit(\n",
    "    x=[trainNumX, trainImagesX], y=trainY,\n",
    "    validation_data=([testNumX, testImagesX], testY),\n",
    "    epochs=EPOCHS, batch_size=8, verbose=False)\n",
    "end = int(round(time()*1000))\n",
    "train_time = (end-start)/1000\n",
    "print(\"Fitted!\")"
   ]
  },
  {
   "cell_type": "code",
   "execution_count": 13,
   "id": "827ba8bc",
   "metadata": {},
   "outputs": [
    {
     "name": "stderr",
     "output_type": "stream",
     "text": [
      "/Library/Frameworks/Python.framework/Versions/3.9/lib/python3.9/site-packages/keras/engine/training_v1.py:2079: UserWarning: `Model.state_updates` will be removed in a future version. This property should not be used in TensorFlow 2.0, as `updates` are applied automatically.\n",
      "  updates=self.state_updates,\n"
     ]
    },
    {
     "name": "stdout",
     "output_type": "stream",
     "text": [
      "After training the model with 29 inputs and 10 tests, here are the results\n",
      "-----------\n",
      "Time to train (29 inputs, epoch=200) in sec: 54.739\n",
      "Time to predict (10 values) in ms: 342\n",
      "Score: 90.0%\n"
     ]
    }
   ],
   "source": [
    "lescore, pred_time = score(model, verbose=False)\n",
    "\n",
    "print(\"After training the model with %s inputs and %s tests, here are the results\"%(trainY.shape[0], testY.shape[0]))\n",
    "print(\"-----------\")\n",
    "print(\"Time to train (%s inputs, epoch=%s) in sec: %s\" % (trainY.shape[0], EPOCHS, train_time))\n",
    "print(\"Time to predict (%s values) in ms: %s\" % (testY.shape[0], pred_time))\n",
    "print(\"Score: %s%%\" % (lescore*100))\n",
    "\n",
    "model.save(MODEL_NAME)"
   ]
  }
 ],
 "metadata": {
  "kernelspec": {
   "display_name": "Python 3 (ipykernel)",
   "language": "python",
   "name": "python3"
  },
  "language_info": {
   "codemirror_mode": {
    "name": "ipython",
    "version": 3
   },
   "file_extension": ".py",
   "mimetype": "text/x-python",
   "name": "python",
   "nbconvert_exporter": "python",
   "pygments_lexer": "ipython3",
   "version": "3.9.6"
  }
 },
 "nbformat": 4,
 "nbformat_minor": 5
}
